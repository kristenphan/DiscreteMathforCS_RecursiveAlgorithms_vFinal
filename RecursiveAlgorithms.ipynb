{
    "cells": [
        {
            "metadata": {
                "collapsed": true
            },
            "cell_type": "markdown",
            "source": "<img src = \"https://external-preview.redd.it/b1iFlzzwl7RQMt_dyCoy3B-4pWtf14s1Uu7tsLjLBA8.png?auto=webp&s=ad40f7556dd1e8144859233fbcf73d408901db4e\" width = 400> </a>"
        },
        {
            "metadata": {},
            "cell_type": "markdown",
            "source": "<h1 align=center><font size = 5.5>Recursive Algorithms</font></h1>"
        },
        {
            "metadata": {},
            "cell_type": "markdown",
            "source": "# Notebook description"
        },
        {
            "metadata": {},
            "cell_type": "markdown",
            "source": "This notebook stores the work as part of the Introduction to Discrete Mathematics for Computer Science Specialization. Course URL: https://www.coursera.org/specializations/discrete-mathematics. Code included in this repository is written by myself, Kristen Phan. Below are recursive algorithms written to solve various math problems."
        },
        {
            "metadata": {},
            "cell_type": "markdown",
            "source": "# Assigments"
        },
        {
            "metadata": {},
            "cell_type": "markdown",
            "source": "## Assignment 1"
        },
        {
            "metadata": {},
            "cell_type": "markdown",
            "source": "Assigment description: Develop a Python method change(amount) that for any integer amount in the range from 24 to 1000 returns a list consisting of numbers 5 and 7 only, such that their sum is equal to amount. For example, change(28) may return [7, 7, 7, 7], while change(49) may return [7, 7, 7, 7, 7, 7, 7] or [5, 5, 5, 5, 5, 5, 5, 7, 7] or [7, 5, 5, 5, 5, 5, 5, 5, 7]."
        },
        {
            "metadata": {},
            "cell_type": "code",
            "source": "# create a custom function called 'change'\ndef change(amount):\n  if amount == 24:\n    return [5, 5, 7, 7]\n  if amount == 25:\n    return [5, 5, 5, 5, 5]\n  if amount == 26:\n    return [5, 7, 7, 7]\n  if amount == 27:\n    return [5, 5, 5, 5, 7]\n  if amount == 28:\n    return [7, 7, 7, 7]\n  coins = change(amount - 3)\n  coins.append(3)\n  return coins",
            "execution_count": 5,
            "outputs": []
        },
        {
            "metadata": {},
            "cell_type": "code",
            "source": "# test function 'change' with the amount of 100\nchange(100)",
            "execution_count": 6,
            "outputs": [
                {
                    "output_type": "execute_result",
                    "execution_count": 6,
                    "data": {
                        "text/plain": "[7,\n 7,\n 7,\n 7,\n 3,\n 3,\n 3,\n 3,\n 3,\n 3,\n 3,\n 3,\n 3,\n 3,\n 3,\n 3,\n 3,\n 3,\n 3,\n 3,\n 3,\n 3,\n 3,\n 3,\n 3,\n 3,\n 3,\n 3]"
                    },
                    "metadata": {}
                }
            ]
        },
        {
            "metadata": {},
            "cell_type": "markdown",
            "source": "## Assignment 2"
        },
        {
            "metadata": {},
            "cell_type": "markdown",
            "source": "Assignment description: The number of moves required to solve the Hanoi Towers puzzle for n=1n=1 and n=2n=2 discs is equal to 1 and 3, respectively. Implement the recursive solution for the Hanoi Towers (described in the lectures) and count the number of moves for n=6n=6 discs."
        },
        {
            "metadata": {},
            "cell_type": "code",
            "source": "# create a custom function called hanoi count the number of moves required\ndef hanoi(n, src, temp, dest):\n    if n == 1:\n        return 1\n\n    return hanoi(n - 1, src, dest, temp) + hanoi(1, src, temp, dest) + hanoi(n - 1, temp, src, dest)",
            "execution_count": 7,
            "outputs": []
        },
        {
            "metadata": {},
            "cell_type": "code",
            "source": "# test function 'hanoi' for the below parameters\nhanoi(6, src=1, temp=2, dest=3)",
            "execution_count": 8,
            "outputs": [
                {
                    "output_type": "execute_result",
                    "execution_count": 8,
                    "data": {
                        "text/plain": "63"
                    },
                    "metadata": {}
                }
            ]
        }
    ],
    "metadata": {
        "kernelspec": {
            "name": "python3",
            "display_name": "Python 3.6",
            "language": "python"
        },
        "language_info": {
            "name": "python",
            "version": "3.6.9",
            "mimetype": "text/x-python",
            "codemirror_mode": {
                "name": "ipython",
                "version": 3
            },
            "pygments_lexer": "ipython3",
            "nbconvert_exporter": "python",
            "file_extension": ".py"
        }
    },
    "nbformat": 4,
    "nbformat_minor": 1
}