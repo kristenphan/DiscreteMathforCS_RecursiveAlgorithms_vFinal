{
    "cells": [
        {
            "cell_type": "markdown",
            "metadata": {
                "collapsed": true
            },
            "source": "<img src = \"https://external-preview.redd.it/b1iFlzzwl7RQMt_dyCoy3B-4pWtf14s1Uu7tsLjLBA8.png?auto=webp&s=ad40f7556dd1e8144859233fbcf73d408901db4e\" width = 400> </a>"
        },
        {
            "cell_type": "markdown",
            "metadata": {},
            "source": "<h1 align=center><font size = 5.5>Recursive Algorithms</font></h1>"
        },
        {
            "cell_type": "markdown",
            "metadata": {},
            "source": "# Notebook description"
        },
        {
            "cell_type": "markdown",
            "metadata": {},
            "source": "This notebook stores the work as part of the Introduction to Discrete Mathematics for Computer Science Specialization. Course URL: https://www.coursera.org/specializations/discrete-mathematics. Code included in this repository is written by myself, Kristen Phan. Below are recursive algorithms written to solve various math problems."
        },
        {
            "cell_type": "markdown",
            "metadata": {},
            "source": "# Assigments"
        },
        {
            "cell_type": "markdown",
            "metadata": {},
            "source": "## Assignment 1"
        },
        {
            "cell_type": "markdown",
            "metadata": {},
            "source": "Assigment description: Develop a Python method change(amount) that for any integer amount in the range from 24 to 1000 returns a list consisting of numbers 5 and 7 only, such that their sum is equal to amount. For example, change(28) may return [7, 7, 7, 7], while change(49) may return [7, 7, 7, 7, 7, 7, 7] or [5, 5, 5, 5, 5, 5, 5, 7, 7] or [7, 5, 5, 5, 5, 5, 5, 5, 7]."
        },
        {
            "cell_type": "code",
            "execution_count": 5,
            "metadata": {},
            "outputs": [],
            "source": "# create a custom function called 'change'\ndef change(amount):\n  if amount == 24:\n    return [5, 5, 7, 7]\n  if amount == 25:\n    return [5, 5, 5, 5, 5]\n  if amount == 26:\n    return [5, 7, 7, 7]\n  if amount == 27:\n    return [5, 5, 5, 5, 7]\n  if amount == 28:\n    return [7, 7, 7, 7]\n  coins = change(amount - 3)\n  coins.append(3)\n  return coins"
        },
        {
            "cell_type": "code",
            "execution_count": 6,
            "metadata": {},
            "outputs": [
                {
                    "data": {
                        "text/plain": "[7,\n 7,\n 7,\n 7,\n 3,\n 3,\n 3,\n 3,\n 3,\n 3,\n 3,\n 3,\n 3,\n 3,\n 3,\n 3,\n 3,\n 3,\n 3,\n 3,\n 3,\n 3,\n 3,\n 3,\n 3,\n 3,\n 3,\n 3]"
                    },
                    "execution_count": 6,
                    "metadata": {},
                    "output_type": "execute_result"
                }
            ],
            "source": "# test function 'change' with the amount of 100\nchange(100)"
        },
        {
            "cell_type": "markdown",
            "metadata": {},
            "source": "## Assignment 2"
        },
        {
            "cell_type": "markdown",
            "metadata": {},
            "source": "Assignment description: The number of moves required to solve the Hanoi Towers puzzle for n=1n=1 and n=2n=2 discs is equal to 1 and 3, respectively. Implement the recursive solution for the Hanoi Towers (described in the lectures) and count the number of moves for n=6n=6 discs."
        },
        {
            "cell_type": "code",
            "execution_count": 7,
            "metadata": {},
            "outputs": [],
            "source": "# create a custom function called hanoi count the number of moves required\ndef hanoi(n, src, temp, dest):\n    if n == 1:\n        return 1\n\n    return hanoi(n - 1, src, dest, temp) + hanoi(1, src, temp, dest) + hanoi(n - 1, temp, src, dest)"
        },
        {
            "cell_type": "code",
            "execution_count": 8,
            "metadata": {},
            "outputs": [
                {
                    "data": {
                        "text/plain": "63"
                    },
                    "execution_count": 8,
                    "metadata": {},
                    "output_type": "execute_result"
                }
            ],
            "source": "# test function 'hanoi' for the below parameters\nhanoi(6, src=1, temp=2, dest=3)"
        }
    ],
    "metadata": {
        "kernelspec": {
            "display_name": "Python 3.6",
            "language": "python",
            "name": "python3"
        },
        "language_info": {
            "codemirror_mode": {
                "name": "ipython",
                "version": 3
            },
            "file_extension": ".py",
            "mimetype": "text/x-python",
            "name": "python",
            "nbconvert_exporter": "python",
            "pygments_lexer": "ipython3",
            "version": "3.6.9"
        }
    },
    "nbformat": 4,
    "nbformat_minor": 1
}